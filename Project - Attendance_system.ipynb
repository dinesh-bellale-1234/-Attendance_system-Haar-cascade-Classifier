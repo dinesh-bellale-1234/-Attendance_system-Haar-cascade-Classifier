{
 "cells": [
  {
   "cell_type": "code",
   "execution_count": 1,
   "id": "031f2ee7",
   "metadata": {},
   "outputs": [
    {
     "name": "stdout",
     "output_type": "stream",
     "text": [
      "Enter your name: Dinesh \n",
      "Collected 0 face images and saved as Dinesh .npy\n",
      "Do you want to add another student? (Yes/No): Yes\n",
      "Enter your name: Raghu\n",
      "Collected 0 face images and saved as Raghu.npy\n",
      "Do you want to add another student? (Yes/No): Yes\n",
      "Enter your name: Lavanya\n",
      "Collected 0 face images and saved as Lavanya.npy\n",
      "Do you want to add another student? (Yes/No): Yes\n",
      "Enter your name: Vamshi\n",
      "Collected 0 face images and saved as Vamshi.npy\n",
      "Do you want to add another student? (Yes/No): No\n"
     ]
    }
   ],
   "source": [
    "import cv2\n",
    "import numpy as np\n",
    "\n",
    "# Load the Haar cascade file for face detection\n",
    "face_cascade = cv2.CascadeClassifier(cv2.data.haarcascades + 'haarcascade_frontalface_default.xml')\n",
    "\n",
    "# Create a variable to store face data\n",
    "individuals = []\n",
    "\n",
    "def capture_faces(name):\n",
    "    cap = cv2.VideoCapture(0)\n",
    "    face_data = []\n",
    "    frame_count = 0\n",
    "\n",
    "    while True:\n",
    "        ret, frame = cap.read()\n",
    "        if not ret:\n",
    "            print(\"Failed to capture image\")\n",
    "            break\n",
    "        \n",
    "        gray_frame = cv2.cvtColor(frame, cv2.COLOR_BGR2GRAY)\n",
    "        faces = face_cascade.detectMultiScale(gray_frame, 1.3, 5)\n",
    "        \n",
    "        if len(faces) > 0:\n",
    "            # Sort faces by size (largest first)\n",
    "            faces = sorted(faces, key=lambda x: x[2]*x[3], reverse=True)\n",
    "            (x, y, w, h) = faces[0]\n",
    "            \n",
    "            # Extract the face region and resize it\n",
    "            face = frame[y:y+h, x:x+w]\n",
    "            face = cv2.resize(face, (100, 100))\n",
    "            \n",
    "            # Save every 3rd frame\n",
    "            if frame_count % 3 == 0:\n",
    "                face_data.append(face)\n",
    "                print(f\"Saved frame {frame_count // 3 + 1}\")\n",
    "            \n",
    "            # Draw a rectangle around the face\n",
    "            cv2.rectangle(frame, (x, y), (x+w, y+h), (255, 0, 0), 2)\n",
    "        \n",
    "        cv2.imshow(\"Face Capture\", frame)\n",
    "        \n",
    "        frame_count += 1\n",
    "\n",
    "        # Break the loop after capturing 20 frames\n",
    "        if frame_count >= 18:  # 20 frames saved every 3rd frame\n",
    "            break\n",
    "\n",
    "        # Press 'q' to break the loop early\n",
    "        if cv2.waitKey(1) & 0xFF == ord('q'):\n",
    "            break\n",
    "\n",
    "    cap.release()\n",
    "    cv2.destroyAllWindows()\n",
    "\n",
    "    # Convert face data to numpy array and save\n",
    "    face_data = np.asarray(face_data)\n",
    "    np.save(f'{name}.npy', face_data)\n",
    "    print(f\"Collected {len(face_data)} face images and saved as {name}.npy\")\n",
    "\n",
    "while True:\n",
    "    name = input('Enter your name: ').capitalize()\n",
    "    individuals.append(name)\n",
    "    capture_faces(name)\n",
    "    \n",
    "    a = input('Do you want to add another student? (Yes/No): ').capitalize()\n",
    "    if a == 'No':\n",
    "        break"
   ]
  },
  {
   "cell_type": "code",
   "execution_count": 2,
   "id": "6ccce6aa",
   "metadata": {},
   "outputs": [],
   "source": [
    "import pandas as pd\n",
    "import numpy as np\n",
    "import keras\n",
    "import seaborn as sns\n",
    "import matplotlib.pyplot as plt\n",
    "from keras.models import Sequential\n",
    "from keras.layers import Input, Dense, Conv2D, MaxPooling2D,Flatten"
   ]
  },
  {
   "cell_type": "code",
   "execution_count": 3,
   "id": "e7757466",
   "metadata": {},
   "outputs": [
    {
     "name": "stderr",
     "output_type": "stream",
     "text": [
      "C:\\Users\\deepa\\anaconda3\\Lib\\site-packages\\keras\\src\\layers\\convolutional\\base_conv.py:107: UserWarning: Do not pass an `input_shape`/`input_dim` argument to a layer. When using Sequential models, prefer using an `Input(shape)` object as the first layer in the model instead.\n",
      "  super().__init__(activity_regularizer=activity_regularizer, **kwargs)\n"
     ]
    }
   ],
   "source": [
    "model = Sequential([\n",
    "    Conv2D(32, (3, 3), activation='relu', input_shape=(100, 100, 3)),\n",
    "    MaxPooling2D((2, 2)),\n",
    "    Conv2D(64, (3, 3), activation='relu'),\n",
    "    MaxPooling2D((2, 2)),\n",
    "    Flatten(),\n",
    "    Dense(128, activation='relu'),\n",
    "    Dense(len(individuals), activation='softmax')\n",
    "])\n",
    "\n",
    "model.compile(optimizer='adam', loss='categorical_crossentropy', metrics=['accuracy'])"
   ]
  },
  {
   "cell_type": "code",
   "execution_count": 4,
   "id": "34135c15",
   "metadata": {},
   "outputs": [
    {
     "name": "stderr",
     "output_type": "stream",
     "text": [
      "WARNING:absl:You are saving your model as an HDF5 file via `model.save()` or `keras.saving.save_model(model)`. This file format is considered legacy. We recommend using instead the native Keras format, e.g. `model.save('my_model.keras')` or `keras.saving.save_model(model, 'my_model.keras')`. \n"
     ]
    }
   ],
   "source": [
    "model.save('face_recognition_model.h5')"
   ]
  },
  {
   "cell_type": "code",
   "execution_count": 5,
   "id": "6d8b1507",
   "metadata": {},
   "outputs": [
    {
     "name": "stdout",
     "output_type": "stream",
     "text": [
      "\u001b[1m1/1\u001b[0m \u001b[32m━━━━━━━━━━━━━━━━━━━━\u001b[0m\u001b[37m\u001b[0m \u001b[1m0s\u001b[0m 439ms/step\n"
     ]
    },
    {
     "ename": "NameError",
     "evalue": "name 'label_map' is not defined",
     "output_type": "error",
     "traceback": [
      "\u001b[1;31m---------------------------------------------------------------------------\u001b[0m",
      "\u001b[1;31mNameError\u001b[0m                                 Traceback (most recent call last)",
      "Cell \u001b[1;32mIn[5], line 33\u001b[0m\n\u001b[0;32m     31\u001b[0m prediction \u001b[38;5;241m=\u001b[39m model\u001b[38;5;241m.\u001b[39mpredict(face)\n\u001b[0;32m     32\u001b[0m label_index \u001b[38;5;241m=\u001b[39m np\u001b[38;5;241m.\u001b[39margmax(prediction)\n\u001b[1;32m---> 33\u001b[0m person_name \u001b[38;5;241m=\u001b[39m label_map[label_index]\n\u001b[0;32m     35\u001b[0m \u001b[38;5;66;03m# Draw rectangle around the face and label it\u001b[39;00m\n\u001b[0;32m     36\u001b[0m cv2\u001b[38;5;241m.\u001b[39mrectangle(frame, (x, y), (x\u001b[38;5;241m+\u001b[39mw, y\u001b[38;5;241m+\u001b[39mh), (\u001b[38;5;241m255\u001b[39m, \u001b[38;5;241m0\u001b[39m, \u001b[38;5;241m0\u001b[39m), \u001b[38;5;241m2\u001b[39m)\n",
      "\u001b[1;31mNameError\u001b[0m: name 'label_map' is not defined"
     ]
    }
   ],
   "source": [
    "import csv\n",
    "from datetime import datetime\n",
    "\n",
    "# Load the Haar cascade file for face detection\n",
    "face_cascade = cv2.CascadeClassifier(cv2.data.haarcascades + 'haarcascade_frontalface_default.xml')\n",
    "\n",
    "# Initialize video capture\n",
    "cap = cv2.VideoCapture(0)\n",
    "\n",
    "# Open a CSV file to record attendance\n",
    "with open('attendance.csv', mode='w', newline='') as file:\n",
    "    writer = csv.writer(file)\n",
    "    writer.writerow([\"Name\", \"Time\"])\n",
    "\n",
    "    while True:\n",
    "        ret, frame = cap.read()\n",
    "        if not ret:\n",
    "            print(\"Failed to capture image\")\n",
    "            break\n",
    "\n",
    "        gray_frame = cv2.cvtColor(frame, cv2.COLOR_BGR2GRAY)\n",
    "        faces = face_cascade.detectMultiScale(gray_frame, 1.3, 5)\n",
    "\n",
    "        for (x, y, w, h) in faces:\n",
    "            face = frame[y:y+h, x:x+w]\n",
    "            face = cv2.resize(face, (100, 100))\n",
    "            face = face / 255.0\n",
    "            face = np.expand_dims(face, axis=0)\n",
    "\n",
    "            # Predict the face\n",
    "            prediction = model.predict(face)\n",
    "            label_index = np.argmax(prediction)\n",
    "            person_name = label_map[label_index]\n",
    "\n",
    "            # Draw rectangle around the face and label it\n",
    "            cv2.rectangle(frame, (x, y), (x+w, y+h), (255, 0, 0), 2)\n",
    "            cv2.putText(frame, person_name, (x, y-10), cv2.FONT_HERSHEY_SIMPLEX, 0.9, (255, 0, 0), 2)\n",
    "\n",
    "            # Record attendance\n",
    "            writer.writerow([person_name, datetime.now().strftime(\"%Y-%m-%d %H:%M:%S\")])\n",
    "            print(f\"Recorded attendance for {person_name}\")\n",
    "\n",
    "        cv2.imshow(\"Attendance System\", frame)\n",
    "\n",
    "        # Break the loop if 'q' is pressed\n",
    "        if cv2.waitKey(1) & 0xFF == ord('q'):\n",
    "            break\n",
    "\n",
    "# Release the webcam and close all OpenCV windows\n",
    "cap.release()\n",
    "cv2.destroyAllWindows()"
   ]
  },
  {
   "cell_type": "code",
   "execution_count": null,
   "id": "8e83eeb7",
   "metadata": {},
   "outputs": [],
   "source": []
  }
 ],
 "metadata": {
  "kernelspec": {
   "display_name": "Python 3 (ipykernel)",
   "language": "python",
   "name": "python3"
  },
  "language_info": {
   "codemirror_mode": {
    "name": "ipython",
    "version": 3
   },
   "file_extension": ".py",
   "mimetype": "text/x-python",
   "name": "python",
   "nbconvert_exporter": "python",
   "pygments_lexer": "ipython3",
   "version": "3.11.3"
  }
 },
 "nbformat": 4,
 "nbformat_minor": 5
}
